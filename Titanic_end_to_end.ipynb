{
  "cells": [
    {
      "cell_type": "markdown",
      "metadata": {
        "id": "view-in-github",
        "colab_type": "text"
      },
      "source": [
        "<a href=\"https://colab.research.google.com/github/urjadd/Titanic-Deployment-with-streamlit/blob/master/Titanic_end_to_end.ipynb\" target=\"_parent\"><img src=\"https://colab.research.google.com/assets/colab-badge.svg\" alt=\"Open In Colab\"/></a>"
      ]
    },
    {
      "cell_type": "code",
      "execution_count": null,
      "metadata": {
        "id": "Nbkx1VzIs-5x"
      },
      "outputs": [],
      "source": [
        "!pip install streamlit --quiet\n",
        "!npm install -g npm\n",
        "!npm install -g localtunnel"
      ]
    },
    {
      "cell_type": "code",
      "execution_count": null,
      "metadata": {
        "colab": {
          "base_uri": "https://localhost:8080/"
        },
        "id": "7g3dYNaBRKS_",
        "outputId": "9fbd4748-2771-46d8-aac8-2fcefd457a17"
      },
      "outputs": [
        {
          "name": "stdout",
          "output_type": "stream",
          "text": [
            "\u001b[37;40mnpm\u001b[0m \u001b[0m\u001b[30;43mWARN\u001b[0m \u001b[0m\u001b[35mcli\u001b[0m npm v9.2.0 does not\n",
            "\u001b[0m\u001b[37;40mnpm\u001b[0m \u001b[0m\u001b[30;43mWARN\u001b[0m \u001b[0m\u001b[35mcli\u001b[0m support Node.js\n",
            "\u001b[0m\u001b[37;40mnpm\u001b[0m \u001b[0m\u001b[30;43mWARN\u001b[0m \u001b[0m\u001b[35mcli\u001b[0m v14.16.0. You should\n",
            "\u001b[0m\u001b[37;40mnpm\u001b[0m \u001b[0m\u001b[30;43mWARN\u001b[0m \u001b[0m\u001b[35mcli\u001b[0m probably upgrade to a\n",
            "\u001b[0m\u001b[37;40mnpm\u001b[0m \u001b[0m\u001b[30;43mWARN\u001b[0m \u001b[0m\u001b[35mcli\u001b[0m newer version of node\n",
            "\u001b[0m\u001b[37;40mnpm\u001b[0m \u001b[0m\u001b[30;43mWARN\u001b[0m \u001b[0m\u001b[35mcli\u001b[0m as we can't make any\n",
            "\u001b[0m\u001b[37;40mnpm\u001b[0m \u001b[0m\u001b[30;43mWARN\u001b[0m \u001b[0m\u001b[35mcli\u001b[0m promises that npm\n",
            "\u001b[0m\u001b[37;40mnpm\u001b[0m \u001b[0m\u001b[30;43mWARN\u001b[0m \u001b[0m\u001b[35mcli\u001b[0m will work with this\n",
            "\u001b[0m\u001b[37;40mnpm\u001b[0m \u001b[0m\u001b[30;43mWARN\u001b[0m \u001b[0m\u001b[35mcli\u001b[0m version. This version\n",
            "\u001b[0m\u001b[37;40mnpm\u001b[0m \u001b[0m\u001b[30;43mWARN\u001b[0m \u001b[0m\u001b[35mcli\u001b[0m of npm supports the\n",
            "\u001b[0m\u001b[37;40mnpm\u001b[0m \u001b[0m\u001b[30;43mWARN\u001b[0m \u001b[0m\u001b[35mcli\u001b[0m following node\n",
            "\u001b[0m\u001b[37;40mnpm\u001b[0m \u001b[0m\u001b[30;43mWARN\u001b[0m \u001b[0m\u001b[35mcli\u001b[0m versions: `^14.17.0\n",
            "\u001b[0m\u001b[37;40mnpm\u001b[0m \u001b[0m\u001b[30;43mWARN\u001b[0m \u001b[0m\u001b[35mcli\u001b[0m || ^16.13.0 ||\n",
            "\u001b[0m\u001b[37;40mnpm\u001b[0m \u001b[0m\u001b[30;43mWARN\u001b[0m \u001b[0m\u001b[35mcli\u001b[0m >=18.0.0`. You can\n",
            "\u001b[0m\u001b[37;40mnpm\u001b[0m \u001b[0m\u001b[30;43mWARN\u001b[0m \u001b[0m\u001b[35mcli\u001b[0m find the latest\n",
            "\u001b[0m\u001b[37;40mnpm\u001b[0m \u001b[0m\u001b[30;43mWARN\u001b[0m \u001b[0m\u001b[35mcli\u001b[0m version at\n",
            "\u001b[0m\u001b[37;40mnpm\u001b[0m \u001b[0m\u001b[30;43mWARN\u001b[0m \u001b[0m\u001b[35mcli\u001b[0m https://nodejs.org/.\n",
            "\u001b[0m\u001b[0mcontent\u001b[0m\n",
            "\u001b[0m\u001b[0m\n"
          ]
        }
      ],
      "source": [
        "!npm fund\n"
      ]
    },
    {
      "cell_type": "code",
      "execution_count": null,
      "metadata": {
        "id": "IUcfbrGfv6nL"
      },
      "outputs": [],
      "source": [
        "%%writefile app.py\n",
        "import numpy as np\n",
        "import cloudpickle as cp \n",
        "from urllib.request import urlopen\n",
        "import pickle\n",
        "import pandas as pd\n",
        "import streamlit as st\n",
        "from PIL import Image\n",
        "\n",
        "\n",
        "\n",
        "classifier = cp.load(urlopen(\"https://drive.google.com/uc?export=download&id=1OBj4AIbGEk8WJ8WMOHgRNhN-pA0MlYUQ\"))\n",
        "def welcome():\n",
        "  return \"Welcome all\"\n",
        "\n",
        "def prediction_titanic(Pclass,Age,SibSp,Parch,Fare,Sex_male,Embarked_Q,Embarked_S):\n",
        "  prediction=classifier.predict([[Pclass,Age,SibSp,Parch,Fare,Sex_male,Embarked_Q,Embarked_S]])\n",
        "  print(prediction)\n",
        "  return prediction\n",
        "\n",
        "\n",
        "def main():\n",
        "  st.title(\"Check Out If you can survive Titanic\")\n",
        "  st.markdown('<img src=\"https://media.tenor.com/vRHgw0NGj5kAAAAd/titanic.gif\"/>', unsafe_allow_html=True)\n",
        "  html_temp = \"\"\"\n",
        "  \n",
        "  Streamlit Titanic ML App \n",
        "  \n",
        "  \"\"\"\n",
        "  st.markdown(html_temp,unsafe_allow_html=True)\n",
        "  Pclass = st.text_input(\"Pclass:(1,2,3)\",\"Type Here\")\n",
        "  Sex_male = st.text_input(\"Sex(Female : 0,Male : 1]\",\"Type Here\")\n",
        "  SibSp = st.text_input(\"SibSp\",\"Type Here\")\n",
        "  Parch = st.text_input(\"Parch\",\"Type Here\")\n",
        "  Embarked = st.text_input(\"Embarked:(C = Cherbourg, Q = Queenstown, S = Southampton)\",\"Type Here\")\n",
        "  Fare = st.text_input(\"Fare\",\"Type Here\")\n",
        "  Age = st.text_input(\"Age_Category\",\"Type Here\")\n",
        "  if(Embarked=='Q'):\n",
        "    Embarked_Q = 1\n",
        "    Embarked_S = 0\n",
        "  if(Embarked=='S'):\n",
        "    Embarked_Q = 0\n",
        "    Embarked_S = 1\n",
        "  if(Embarked=='C'):\n",
        "    Embarked_Q = 0\n",
        "    Embarked_S = 0\n",
        "  result=\"\"\n",
        "  if st.button(\"Predict\"):\n",
        "      result=prediction_titanic(Pclass,Age,SibSp,Parch,Fare,Sex_male,Embarked_Q,Embarked_S)\n",
        "  if(result == 0):\n",
        "    result = 'did Not Survived'\n",
        "  if(result == 1):\n",
        "    result = 'Survived'  \n",
        "  st.success(f'The Person {result}')\n",
        "  if st.button(\"Information of Elements\"):\n",
        "      st.text(\"Lets Understand How it Works\")\n",
        "      st.text(\"Built with Streamlit by Urja Damodhar\")\n",
        "      html1 = ''' \n",
        "      Variable info<br>\n",
        "      Variable\tDefinition\tKey<br>\n",
        "      survival\tSurvival\t0 = No, 1 = Yes\n",
        "      pclass\tTicket class\t1 = 1st, 2 = 2nd, 3 = 3rd\n",
        "      sex:\tMale,Female\t\n",
        "      Age: \tAge in years\n",
        "      sibsp\t# of siblings / spouses aboard the Titanic\t\n",
        "      parch\t# of parents / children aboard the Titanic\t\n",
        "      fare cagegory\t: Passenger fare \n",
        "      embarked:\tPort of Embarkation\tC = Cherbourg, Q = Queenstown, S = Southampton\n",
        "      '''\n",
        "      st.markdown(html1, unsafe_allow_html = True)\n",
        "if __name__=='__main__':\n",
        "    main()\n"
      ]
    },
    {
      "cell_type": "code",
      "execution_count": null,
      "metadata": {
        "colab": {
          "base_uri": "https://localhost:8080/"
        },
        "id": "vT17LQacRnrH",
        "outputId": "aa7ab947-895c-451d-c42d-e460229cadef"
      },
      "outputs": [
        {
          "metadata": {
            "tags": null
          },
          "name": "stdout",
          "output_type": "stream",
          "text": [
            "\u001b[37;40mnpm\u001b[0m \u001b[0m\u001b[30;43mWARN\u001b[0m \u001b[0m\u001b[35mcli\u001b[0m npm v9.2.0 does not\n",
            "\u001b[0m\u001b[37;40mnpm\u001b[0m \u001b[0m\u001b[30;43mWARN\u001b[0m \u001b[0m\u001b[35mcli\u001b[0m support Node.js\n",
            "\u001b[0m\u001b[37;40mnpm\u001b[0m \u001b[0m\u001b[30;43mWARN\u001b[0m \u001b[0m\u001b[35mcli\u001b[0m v14.16.0. You should\n",
            "\u001b[0m\u001b[37;40mnpm\u001b[0m \u001b[0m\u001b[30;43mWARN\u001b[0m \u001b[0m\u001b[35mcli\u001b[0m probably upgrade to a\n",
            "\u001b[0m\u001b[37;40mnpm\u001b[0m \u001b[0m\u001b[30;43mWARN\u001b[0m \u001b[0m\u001b[35mcli\u001b[0m newer version of node\n",
            "\u001b[0m\u001b[37;40mnpm\u001b[0m \u001b[0m\u001b[30;43mWARN\u001b[0m \u001b[0m\u001b[35mcli\u001b[0m as we can't make any\n",
            "\u001b[0m\u001b[37;40mnpm\u001b[0m \u001b[0m\u001b[30;43mWARN\u001b[0m \u001b[0m\u001b[35mcli\u001b[0m promises that npm\n",
            "\u001b[0m\u001b[37;40mnpm\u001b[0m \u001b[0m\u001b[30;43mWARN\u001b[0m \u001b[0m\u001b[35mcli\u001b[0m will work with this\n",
            "\u001b[0m\u001b[37;40mnpm\u001b[0m \u001b[0m\u001b[30;43mWARN\u001b[0m \u001b[0m\u001b[35mcli\u001b[0m version. This version\n",
            "\u001b[0m\u001b[37;40mnpm\u001b[0m \u001b[0m\u001b[30;43mWARN\u001b[0m \u001b[0m\u001b[35mcli\u001b[0m of npm supports the\n",
            "\u001b[0m\u001b[37;40mnpm\u001b[0m \u001b[0m\u001b[30;43mWARN\u001b[0m \u001b[0m\u001b[35mcli\u001b[0m following node\n",
            "\u001b[0m\u001b[37;40mnpm\u001b[0m \u001b[0m\u001b[30;43mWARN\u001b[0m \u001b[0m\u001b[35mcli\u001b[0m versions: `^14.17.0\n",
            "\u001b[0m\u001b[37;40mnpm\u001b[0m \u001b[0m\u001b[30;43mWARN\u001b[0m \u001b[0m\u001b[35mcli\u001b[0m || ^16.13.0 ||\n",
            "\u001b[0m\u001b[37;40mnpm\u001b[0m \u001b[0m\u001b[30;43mWARN\u001b[0m \u001b[0m\u001b[35mcli\u001b[0m >=18.0.0`. You can\n",
            "\u001b[0m\u001b[37;40mnpm\u001b[0m \u001b[0m\u001b[30;43mWARN\u001b[0m \u001b[0m\u001b[35mcli\u001b[0m find the latest\n",
            "\u001b[0m\u001b[37;40mnpm\u001b[0m \u001b[0m\u001b[30;43mWARN\u001b[0m \u001b[0m\u001b[35mcli\u001b[0m version at\n",
            "\u001b[0m\u001b[37;40mnpm\u001b[0m \u001b[0m\u001b[30;43mWARN\u001b[0m \u001b[0m\u001b[35mcli\u001b[0m https://nodejs.org/.\n",
            "\u001b[0myour url is: https://wild-pots-help-34-125-187-190.loca.lt\n",
            "\n",
            "Collecting usage statistics. To deactivate, set browser.gatherUsageStats to False.\n",
            "\u001b[0m\n",
            "\u001b[0m\n",
            "\u001b[34m\u001b[1m  You can now view your Streamlit app in your browser.\u001b[0m\n",
            "\u001b[0m\n",
            "\u001b[34m  Network URL: \u001b[0m\u001b[1mhttp://172.28.0.12:8501\u001b[0m\n",
            "\u001b[34m  External URL: \u001b[0m\u001b[1mhttp://34.125.187.190:8501\u001b[0m\n",
            "\u001b[0m\n"
          ]
        }
      ],
      "source": [
        "!streamlit run app.py & npx localtunnel --port 8501"
      ]
    },
    {
      "cell_type": "code",
      "execution_count": null,
      "metadata": {
        "id": "S8SXddZxR0oR"
      },
      "outputs": [],
      "source": []
    }
  ],
  "metadata": {
    "colab": {
      "provenance": [],
      "include_colab_link": true
    },
    "kernelspec": {
      "display_name": "Python 3 (ipykernel)",
      "language": "python",
      "name": "python3"
    },
    "language_info": {
      "codemirror_mode": {
        "name": "ipython",
        "version": 3
      },
      "file_extension": ".py",
      "mimetype": "text/x-python",
      "name": "python",
      "nbconvert_exporter": "python",
      "pygments_lexer": "ipython3",
      "version": "3.9.12"
    }
  },
  "nbformat": 4,
  "nbformat_minor": 0
}